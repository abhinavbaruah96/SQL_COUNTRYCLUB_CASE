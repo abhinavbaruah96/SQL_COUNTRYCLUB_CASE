{
 "cells": [
  {
   "cell_type": "code",
   "execution_count": 6,
   "metadata": {},
   "outputs": [],
   "source": [
    "import sqlite3\n",
    "from sqlite3 import Error\n",
    " \n",
    "def create_connection(db_file):\n",
    "    \"\"\" create a database connection to the SQLite database\n",
    "        specified by the db_file\n",
    "    :param db_file: database file\n",
    "    :return: Connection object or None\n",
    "    \"\"\"\n",
    "    conn = None\n",
    "    try:\n",
    "        conn = sqlite3.connect(db_file)\n",
    "        print(sqlite3.version)\n",
    "    except Error as e:\n",
    "        print(e)\n",
    " \n",
    "    return conn\n",
    " \n",
    "def select_all_tasks(conn):\n",
    "    \"\"\"\n",
    "    Query all rows in the tasks table\n",
    "    :param conn: the Connection object\n",
    "    :return:\n",
    "    \"\"\"\n",
    "    cur = conn.cursor()\n",
    "    \n",
    "    query1 = \"\"\"\n",
    "        SELECT *\n",
    "        FROM FACILITIES\n",
    "        \"\"\"\n",
    "    cur.execute(query1)\n",
    " \n",
    "    rows = cur.fetchall()\n",
    " \n",
    "    for row in rows:\n",
    "        print(row)\n",
    "\n",
    "\n",
    "def main():\n",
    "    database = \"sqlite_db_pythonsqlite.db\"\n",
    " \n",
    "    # create a database connection\n",
    "    conn = create_connection(database)\n",
    "    with conn: \n",
    "        print(\"2. Query all tasks\")\n",
    "        select_all_tasks(conn)\n",
    " \n",
    " \n"
   ]
  },
  {
   "cell_type": "code",
   "execution_count": 7,
   "metadata": {},
   "outputs": [
    {
     "name": "stdout",
     "output_type": "stream",
     "text": [
      "2.6.0\n",
      "2. Query all tasks\n",
      "(0, 'Tennis Court 1', 5, 25, 10000, 200)\n",
      "(1, 'Tennis Court 2', 5, 25, 8000, 200)\n",
      "(2, 'Badminton Court', 0, 15.5, 4000, 50)\n",
      "(3, 'Table Tennis', 0, 5, 320, 10)\n",
      "(4, 'Massage Room 1', 9.9, 80, 4000, 3000)\n",
      "(5, 'Massage Room 2', 9.9, 80, 4000, 3000)\n",
      "(6, 'Squash Court', 3.5, 17.5, 5000, 80)\n",
      "(7, 'Snooker Table', 0, 5, 450, 15)\n",
      "(8, 'Pool Table', 0, 5, 400, 15)\n"
     ]
    }
   ],
   "source": [
    "main()"
   ]
  },
  {
   "cell_type": "code",
   "execution_count": 8,
   "metadata": {},
   "outputs": [],
   "source": [
    "def select_all_tasks(conn):\n",
    "    \"\"\"\n",
    "    Query all rows in the tasks table\n",
    "    :param conn: the Connection object\n",
    "    :return:\n",
    "    \"\"\"\n",
    "    cur = conn.cursor()\n",
    "    \n",
    "    query2 = \"\"\"\n",
    "        SELECT f.name,\n",
    "        SUM(CASE WHEN m.memid =0 THEN f.guestcost\n",
    "        WHEN m.memid <> 0 THEN f.membercost\n",
    "        END ) AS Total_Revenue\n",
    "        FROM Facilities AS f\n",
    "        LEFT JOIN Bookings AS b ON f.facid = b.facid\n",
    "        LEFT JOIN Members AS m ON b.memid = m.memid\n",
    "        GROUP BY f.name\n",
    "        HAVING Total_Revenue < 1000.0\n",
    "        ORDER BY Total_Revenue\n",
    "        LIMIT 0 , 30\n",
    "        \"\"\"\n",
    "    cur.execute(query2)\n",
    " \n",
    "    rows = cur.fetchall()\n",
    " \n",
    "    for row in rows:\n",
    "        print(row)"
   ]
  },
  {
   "cell_type": "code",
   "execution_count": 9,
   "metadata": {},
   "outputs": [
    {
     "name": "stdout",
     "output_type": "stream",
     "text": [
      "2.6.0\n",
      "2. Query all tasks\n",
      "('Table Tennis', 90)\n",
      "('Snooker Table', 115)\n",
      "('Pool Table', 265)\n",
      "('Badminton Court', 604.5)\n"
     ]
    }
   ],
   "source": [
    "main()"
   ]
  },
  {
   "cell_type": "code",
   "execution_count": 45,
   "metadata": {},
   "outputs": [],
   "source": [
    "def select_all_tasks(conn):\n",
    "    \"\"\"\n",
    "    Query all rows in the tasks table\n",
    "    :param conn: the Connection object\n",
    "    :return:\n",
    "    \"\"\"\n",
    "    cur = conn.cursor()\n",
    "    \n",
    "    query3 = \"\"\"\n",
    "        SELECT FirstName, Surname,(SELECT FirstName || ' ' || Surname AS Recommnededby\n",
    "        FROM Members\n",
    "        WHERE (CASE WHEN memid = RecommenderId\n",
    "        THEN memid\n",
    "        ELSE NULL END )) AS RecommendedBY\n",
    "        FROM (SELECT m1.memid, m1.firstname AS FirstName, m1.surname AS Surname, m1.recommendedby AS RecommenderID\n",
    "        FROM Members AS m1\n",
    "        INNER JOIN Members AS m2 ON m1.memid = m2.memid\n",
    "        ORDER BY m1.surname, m1.firstname\n",
    "        ) AS Main\n",
    "        \"\"\"\n",
    "    cur.execute(query3)\n",
    " \n",
    "    rows = cur.fetchall()\n",
    " \n",
    "    for row in rows:\n",
    "        print(row)"
   ]
  },
  {
   "cell_type": "code",
   "execution_count": 46,
   "metadata": {},
   "outputs": [
    {
     "name": "stdout",
     "output_type": "stream",
     "text": [
      "2.6.0\n",
      "2. Query all tasks\n",
      "('Florence', 'Bader', 'Ponder Stibbons')\n",
      "('Anne', 'Baker', 'Ponder Stibbons')\n",
      "('Timothy', 'Baker', 'Jemima Farrell')\n",
      "('Tim', 'Boothe', 'Tim Rownam')\n",
      "('Gerald', 'Butters', 'Darren Smith')\n",
      "('Joan', 'Coplin', 'Timothy Baker')\n",
      "('Erica', 'Crumpet', 'Tracy Smith')\n",
      "('Nancy', 'Dare', 'Janice Joplette')\n",
      "('David', 'Farrell', None)\n",
      "('Jemima', 'Farrell', None)\n",
      "('GUEST', 'GUEST', None)\n",
      "('Matthew', 'Genting', 'Gerald Butters')\n",
      "('John', 'Hunt', 'Millicent Purview')\n",
      "('David', 'Jones', 'Janice Joplette')\n",
      "('Douglas', 'Jones', 'David Jones')\n",
      "('Janice', 'Joplette', 'Darren Smith')\n",
      "('Anna', 'Mackenzie', 'Darren Smith')\n",
      "('Charles', 'Owen', 'Darren Smith')\n",
      "('David', 'Pinker', 'Jemima Farrell')\n",
      "('Millicent', 'Purview', 'Tracy Smith')\n",
      "('Tim', 'Rownam', None)\n",
      "('Henrietta', 'Rumney', 'Matthew Genting')\n",
      "('Ramnaresh', 'Sarwin', 'Florence Bader')\n",
      "('Darren', 'Smith', None)\n",
      "('Darren', 'Smith', None)\n",
      "('Jack', 'Smith', 'Darren Smith')\n",
      "('Tracy', 'Smith', None)\n",
      "('Ponder', 'Stibbons', 'Burton Tracy')\n",
      "('Burton', 'Tracy', None)\n",
      "('Hyacinth', 'Tupperware', None)\n",
      "('Henry', 'Worthington-Smyth', 'Tracy Smith')\n"
     ]
    }
   ],
   "source": [
    "main()"
   ]
  },
  {
   "cell_type": "code",
   "execution_count": 16,
   "metadata": {},
   "outputs": [],
   "source": [
    "def select_all_tasks(conn):\n",
    "    \"\"\"\n",
    "    Query all rows in the tasks table\n",
    "    :param conn: the Connection object\n",
    "    :return:\n",
    "    \"\"\"\n",
    "    cur = conn.cursor()\n",
    "    \n",
    "    query4 = \"\"\"\n",
    "        SELECT f.name AS FacilityName, COUNT( * ) AS Frequencyofusage, b.memid\n",
    "        FROM `Facilities` AS f\n",
    "        LEFT JOIN Bookings AS b ON f.facid = b.facid\n",
    "        WHERE b.memid !=0\n",
    "        GROUP BY b.memid\n",
    "        ORDER BY Frequencyofusage\n",
    "        \"\"\"\n",
    "    cur.execute(query4)\n",
    " \n",
    "    rows = cur.fetchall()\n",
    " \n",
    "    for row in rows:\n",
    "        print(row)"
   ]
  },
  {
   "cell_type": "code",
   "execution_count": 17,
   "metadata": {},
   "outputs": [
    {
     "name": "stdout",
     "output_type": "stream",
     "text": [
      "2.6.0\n",
      "2. Query all tasks\n",
      "('Massage Room 1', 7, 36)\n",
      "('Pool Table', 14, 26)\n",
      "('Squash Court', 15, 35)\n",
      "('Pool Table', 16, 30)\n",
      "('Pool Table', 16, 33)\n",
      "('Pool Table', 20, 27)\n",
      "('Pool Table', 34, 28)\n",
      "('Pool Table', 41, 29)\n",
      "('Pool Table', 53, 22)\n",
      "('Pool Table', 70, 24)\n",
      "('Pool Table', 71, 17)\n",
      "('Pool Table', 72, 20)\n",
      "('Pool Table', 80, 13)\n",
      "('Pool Table', 89, 14)\n",
      "('Pool Table', 104, 9)\n",
      "('Pool Table', 115, 11)\n",
      "('Pool Table', 117, 7)\n",
      "('Pool Table', 118, 12)\n",
      "('Pool Table', 120, 15)\n",
      "('Pool Table', 126, 21)\n",
      "('Pool Table', 131, 10)\n",
      "('Pool Table', 159, 4)\n",
      "('Pool Table', 163, 5)\n",
      "('Pool Table', 166, 16)\n",
      "('Pool Table', 176, 6)\n",
      "('Pool Table', 188, 8)\n",
      "('Pool Table', 210, 2)\n",
      "('Pool Table', 261, 1)\n",
      "('Pool Table', 408, 3)\n"
     ]
    }
   ],
   "source": [
    "main()"
   ]
  },
  {
   "cell_type": "code",
   "execution_count": 35,
   "metadata": {},
   "outputs": [],
   "source": [
    "def select_all_tasks(conn):\n",
    "    \"\"\"\n",
    "    Query all rows in the tasks table\n",
    "    :param conn: the Connection object\n",
    "    :return:\n",
    "    \"\"\"\n",
    "    cur = conn.cursor()\n",
    "    \n",
    "    query5 = \"\"\"\n",
    "        SELECT f.name AS FacilityName, COUNT( * ) AS Frequencyofusage, b.memid\n",
    "        FROM `Facilities` AS f\n",
    "        LEFT JOIN Bookings AS b ON f.facid = b.facid\n",
    "        WHERE b.memid !=0\n",
    "        GROUP BY b.memid\n",
    "        ORDER BY Frequencyofusage\n",
    "        \"\"\"\n",
    "    cur.execute(query5)\n",
    " \n",
    "    rows = cur.fetchall()\n",
    " \n",
    "    for row in rows:\n",
    "        print(row)"
   ]
  },
  {
   "cell_type": "code",
   "execution_count": 36,
   "metadata": {},
   "outputs": [
    {
     "name": "stdout",
     "output_type": "stream",
     "text": [
      "2.6.0\n",
      "2. Query all tasks\n",
      "('Massage Room 1', 7, 36)\n",
      "('Pool Table', 14, 26)\n",
      "('Squash Court', 15, 35)\n",
      "('Pool Table', 16, 30)\n",
      "('Pool Table', 16, 33)\n",
      "('Pool Table', 20, 27)\n",
      "('Pool Table', 34, 28)\n",
      "('Pool Table', 41, 29)\n",
      "('Pool Table', 53, 22)\n",
      "('Pool Table', 70, 24)\n",
      "('Pool Table', 71, 17)\n",
      "('Pool Table', 72, 20)\n",
      "('Pool Table', 80, 13)\n",
      "('Pool Table', 89, 14)\n",
      "('Pool Table', 104, 9)\n",
      "('Pool Table', 115, 11)\n",
      "('Pool Table', 117, 7)\n",
      "('Pool Table', 118, 12)\n",
      "('Pool Table', 120, 15)\n",
      "('Pool Table', 126, 21)\n",
      "('Pool Table', 131, 10)\n",
      "('Pool Table', 159, 4)\n",
      "('Pool Table', 163, 5)\n",
      "('Pool Table', 166, 16)\n",
      "('Pool Table', 176, 6)\n",
      "('Pool Table', 188, 8)\n",
      "('Pool Table', 210, 2)\n",
      "('Pool Table', 261, 1)\n",
      "('Pool Table', 408, 3)\n"
     ]
    }
   ],
   "source": [
    "main()"
   ]
  },
  {
   "cell_type": "code",
   "execution_count": 41,
   "metadata": {},
   "outputs": [],
   "source": [
    "def select_all_tasks(conn):\n",
    "    \"\"\"\n",
    "    Query all rows in the tasks table\n",
    "    :param conn: the Connection object\n",
    "    :return:\n",
    "    \"\"\"\n",
    "    cur = conn.cursor()\n",
    "    \n",
    "    query6 = \"\"\"\n",
    "    SELECT EXTRACT(MONTH FROM starttime ) AS MONTH ,\n",
    "    f.facid, f.name,COUNT( * ) AS usagecount\n",
    "    FROM 'Bookings' AS b\n",
    "    LEFT JOIN Facilities AS f ON b.facid = f.facid\n",
    "    WHERE b.memid <> 0\n",
    "    GROUP BY MONTH,f.facid\n",
    "    ORDER BY f.facid\n",
    "    \"\"\"\n",
    "    cur.execute(query6)\n",
    " \n",
    "    rows = cur.fetchall()\n",
    " \n",
    "    for row in rows:\n",
    "        print(row)"
   ]
  },
  {
   "cell_type": "code",
   "execution_count": 42,
   "metadata": {},
   "outputs": [
    {
     "name": "stdout",
     "output_type": "stream",
     "text": [
      "2.6.0\n",
      "2. Query all tasks\n"
     ]
    },
    {
     "ename": "OperationalError",
     "evalue": "near \"FROM\": syntax error",
     "output_type": "error",
     "traceback": [
      "\u001b[1;31m---------------------------------------------------------------------------\u001b[0m",
      "\u001b[1;31mOperationalError\u001b[0m                          Traceback (most recent call last)",
      "\u001b[1;32m<ipython-input-42-263240bbee7e>\u001b[0m in \u001b[0;36m<module>\u001b[1;34m\u001b[0m\n\u001b[1;32m----> 1\u001b[1;33m \u001b[0mmain\u001b[0m\u001b[1;33m(\u001b[0m\u001b[1;33m)\u001b[0m\u001b[1;33m\u001b[0m\u001b[0m\n\u001b[0m",
      "\u001b[1;32m<ipython-input-6-a53cc6ad3d3b>\u001b[0m in \u001b[0;36mmain\u001b[1;34m()\u001b[0m\n\u001b[0;32m     44\u001b[0m     \u001b[1;32mwith\u001b[0m \u001b[0mconn\u001b[0m\u001b[1;33m:\u001b[0m\u001b[1;33m\u001b[0m\u001b[0m\n\u001b[0;32m     45\u001b[0m         \u001b[0mprint\u001b[0m\u001b[1;33m(\u001b[0m\u001b[1;34m\"2. Query all tasks\"\u001b[0m\u001b[1;33m)\u001b[0m\u001b[1;33m\u001b[0m\u001b[0m\n\u001b[1;32m---> 46\u001b[1;33m         \u001b[0mselect_all_tasks\u001b[0m\u001b[1;33m(\u001b[0m\u001b[0mconn\u001b[0m\u001b[1;33m)\u001b[0m\u001b[1;33m\u001b[0m\u001b[0m\n\u001b[0m\u001b[0;32m     47\u001b[0m \u001b[1;33m\u001b[0m\u001b[0m\n\u001b[0;32m     48\u001b[0m \u001b[1;33m\u001b[0m\u001b[0m\n",
      "\u001b[1;32m<ipython-input-41-95a8f078d20e>\u001b[0m in \u001b[0;36mselect_all_tasks\u001b[1;34m(conn)\u001b[0m\n\u001b[0;32m     16\u001b[0m     \u001b[0mORDER\u001b[0m \u001b[0mBY\u001b[0m \u001b[0mf\u001b[0m\u001b[1;33m.\u001b[0m\u001b[0mfacid\u001b[0m\u001b[1;33m\u001b[0m\u001b[0m\n\u001b[0;32m     17\u001b[0m     \"\"\"\n\u001b[1;32m---> 18\u001b[1;33m     \u001b[0mcur\u001b[0m\u001b[1;33m.\u001b[0m\u001b[0mexecute\u001b[0m\u001b[1;33m(\u001b[0m\u001b[0mquery6\u001b[0m\u001b[1;33m)\u001b[0m\u001b[1;33m\u001b[0m\u001b[0m\n\u001b[0m\u001b[0;32m     19\u001b[0m \u001b[1;33m\u001b[0m\u001b[0m\n\u001b[0;32m     20\u001b[0m     \u001b[0mrows\u001b[0m \u001b[1;33m=\u001b[0m \u001b[0mcur\u001b[0m\u001b[1;33m.\u001b[0m\u001b[0mfetchall\u001b[0m\u001b[1;33m(\u001b[0m\u001b[1;33m)\u001b[0m\u001b[1;33m\u001b[0m\u001b[0m\n",
      "\u001b[1;31mOperationalError\u001b[0m: near \"FROM\": syntax error"
     ]
    }
   ],
   "source": [
    "main()"
   ]
  },
  {
   "cell_type": "markdown",
   "metadata": {},
   "source": []
  }
 ],
 "metadata": {
  "kernelspec": {
   "display_name": "Python 3",
   "language": "python",
   "name": "python3"
  },
  "language_info": {
   "codemirror_mode": {
    "name": "ipython",
    "version": 3
   },
   "file_extension": ".py",
   "mimetype": "text/x-python",
   "name": "python",
   "nbconvert_exporter": "python",
   "pygments_lexer": "ipython3",
   "version": "3.6.3"
  }
 },
 "nbformat": 4,
 "nbformat_minor": 4
}
